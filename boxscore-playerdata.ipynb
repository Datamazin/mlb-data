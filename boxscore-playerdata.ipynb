{
 "cells": [
  {
   "cell_type": "code",
   "execution_count": null,
   "id": "83012b19",
   "metadata": {},
   "outputs": [],
   "source": []
  },
  {
   "cell_type": "code",
   "execution_count": 2,
   "id": "94ffb426",
   "metadata": {},
   "outputs": [
    {
     "name": "stdout",
     "output_type": "stream",
     "text": [
      "\n",
      "Away Team Players:\n",
      "Alexander Canario: Hits=0, Runs=0, Doubles=0, Triples=0, HR=0\n",
      "Adam Frazier: Hits=0, Runs=0, Doubles=0, Triples=0, HR=0\n",
      "Paul Skenes: Hits=0, Runs=0, Doubles=0, Triples=0, HR=0\n",
      "Spencer Horwitz: Hits=2, Runs=0, Doubles=0, Triples=0, HR=0\n",
      "Bryan Reynolds: Hits=0, Runs=0, Doubles=0, Triples=0, HR=0\n",
      "Joey Bart: Hits=0, Runs=0, Doubles=0, Triples=0, HR=0\n",
      "Oneil Cruz: Hits=0, Runs=0, Doubles=0, Triples=0, HR=0\n",
      "Chase Shugart: Hits=0, Runs=0, Doubles=0, Triples=0, HR=0\n",
      "Ke'Bryan Hayes: Hits=0, Runs=0, Doubles=0, Triples=0, HR=0\n",
      "Caleb Ferguson: Hits=0, Runs=0, Doubles=0, Triples=0, HR=0\n",
      "Jared Triolo: Hits=0, Runs=0, Doubles=0, Triples=0, HR=0\n",
      "Mitch Keller: Hits=0, Runs=0, Doubles=0, Triples=0, HR=0\n",
      "Tommy Pham: Hits=0, Runs=0, Doubles=0, Triples=0, HR=0\n",
      "Isaac Mattson: Hits=0, Runs=0, Doubles=0, Triples=0, HR=0\n",
      "Andrew McCutchen: Hits=0, Runs=0, Doubles=0, Triples=0, HR=0\n",
      "Isiah Kiner-Falefa: Hits=0, Runs=0, Doubles=0, Triples=0, HR=0\n",
      "Carmen Mlodzinski: Hits=0, Runs=0, Doubles=0, Triples=0, HR=0\n",
      "Dennis Santana: Hits=0, Runs=0, Doubles=0, Triples=0, HR=0\n",
      "Henry Davis: Hits=0, Runs=0, Doubles=0, Triples=0, HR=0\n",
      "Mike Burrows: Hits=0, Runs=0, Doubles=0, Triples=0, HR=0\n",
      "Andrew Heaney: Hits=0, Runs=0, Doubles=0, Triples=0, HR=0\n",
      "Bailey Falter: Hits=0, Runs=0, Doubles=0, Triples=0, HR=0\n",
      "David Bednar: Hits=0, Runs=0, Doubles=0, Triples=0, HR=0\n",
      "Génesis Cabrera: Hits=0, Runs=0, Doubles=0, Triples=0, HR=0\n",
      "Nick Gonzales: Hits=0, Runs=0, Doubles=0, Triples=0, HR=0\n",
      "Braxton Ashcraft: Hits=0, Runs=0, Doubles=0, Triples=0, HR=0\n",
      "\n",
      "Home Team Players:\n",
      "Cole Young: Hits=0, Runs=0, Doubles=0, Triples=0, HR=0\n",
      "Logan Evans: Hits=0, Runs=0, Doubles=0, Triples=0, HR=0\n",
      "Donovan Solano: Hits=0, Runs=0, Doubles=0, Triples=0, HR=0\n",
      "J.P. Crawford: Hits=1, Runs=0, Doubles=1, Triples=0, HR=0\n",
      "Randy Arozarena: Hits=0, Runs=0, Doubles=0, Triples=0, HR=0\n",
      "Casey Legumina: Hits=0, Runs=0, Doubles=0, Triples=0, HR=0\n",
      "Dominic Canzone: Hits=1, Runs=0, Doubles=1, Triples=0, HR=0\n",
      "Cal Raleigh: Hits=0, Runs=0, Doubles=0, Triples=0, HR=0\n",
      "Miles Mastrobuoni: Hits=0, Runs=0, Doubles=0, Triples=0, HR=0\n",
      "Matt Brash: Hits=0, Runs=0, Doubles=0, Triples=0, HR=0\n",
      "Logan Gilbert: Hits=0, Runs=0, Doubles=0, Triples=0, HR=0\n",
      "Bryan Woo: Hits=0, Runs=0, Doubles=0, Triples=0, HR=0\n",
      "Trent Thornton: Hits=0, Runs=0, Doubles=0, Triples=0, HR=0\n",
      "Luis Castillo: Hits=0, Runs=0, Doubles=0, Triples=0, HR=0\n",
      "George Kirby: Hits=0, Runs=0, Doubles=0, Triples=0, HR=0\n",
      "Dylan Moore: Hits=0, Runs=0, Doubles=0, Triples=0, HR=0\n",
      "Andrés Muñoz: Hits=0, Runs=0, Doubles=0, Triples=0, HR=0\n",
      "Mitch Garver: Hits=0, Runs=0, Doubles=0, Triples=0, HR=0\n",
      "Juan Burgos: Hits=0, Runs=0, Doubles=0, Triples=0, HR=0\n",
      "Gabe Speier: Hits=0, Runs=0, Doubles=0, Triples=0, HR=0\n",
      "Julio Rodríguez: Hits=0, Runs=0, Doubles=0, Triples=0, HR=0\n",
      "Ben Williamson: Hits=1, Runs=0, Doubles=1, Triples=0, HR=0\n",
      "Eduard Bazardo: Hits=0, Runs=0, Doubles=0, Triples=0, HR=0\n",
      "Jorge Polanco: Hits=1, Runs=1, Doubles=1, Triples=0, HR=0\n",
      "Luke Raley: Hits=1, Runs=0, Doubles=0, Triples=0, HR=0\n",
      "Carlos Vargas: Hits=0, Runs=0, Doubles=0, Triples=0, HR=0\n"
     ]
    }
   ],
   "source": [
    "import json\n",
    "\n",
    "# Load the boxscore JSON file\n",
    "with open('assets/json/boxscores/mlb_boxscores_2025-07-05.json', 'r') as f:\n",
    "    boxscore = json.load(f)\n",
    "\n",
    "for team_type in ['away', 'home']:\n",
    "    print(f\"\\n{team_type.capitalize()} Team Players:\")\n",
    "    players = boxscore['teams'][team_type]['players']\n",
    "    for player_id, player_data in players.items():\n",
    "        name = player_data['person']['fullName']\n",
    "        batting = player_data.get('stats', {}).get('batting', {})\n",
    "        hits = batting.get('hits', 0)\n",
    "        runs = batting.get('runs', 0)\n",
    "        doubles = batting.get('doubles', 0)\n",
    "        triples = batting.get('triples', 0)\n",
    "        homeruns = batting.get('homeRuns', 0)\n",
    "        print(f\"{name}: Hits={hits}, Runs={runs}, Doubles={doubles}, Triples={triples}, HR={homeruns}\")"
   ]
  }
 ],
 "metadata": {
  "kernelspec": {
   "display_name": ".venv",
   "language": "python",
   "name": "python3"
  },
  "language_info": {
   "codemirror_mode": {
    "name": "ipython",
    "version": 3
   },
   "file_extension": ".py",
   "mimetype": "text/x-python",
   "name": "python",
   "nbconvert_exporter": "python",
   "pygments_lexer": "ipython3",
   "version": "3.13.3"
  }
 },
 "nbformat": 4,
 "nbformat_minor": 5
}
