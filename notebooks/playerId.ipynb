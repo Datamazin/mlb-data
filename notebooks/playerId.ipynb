{
 "cells": [
  {
   "cell_type": "code",
   "execution_count": 9,
   "id": "1791659b",
   "metadata": {},
   "outputs": [
    {
     "name": "stdout",
     "output_type": "stream",
     "text": [
      "Fetched player info for 527 players\n"
     ]
    }
   ],
   "source": [
    "import json\n",
    "import requests\n",
    "import time\n",
    "\n",
    "\n",
    "# Load the boxscore JSON file\n",
    "with open('assets/json/boxscores/mlb_boxscores_2025-07-05.json', 'r') as f:\n",
    "    all_boxscores = json.load(f)\n",
    "\n",
    "all_ids = set()\n",
    "\n",
    "for game in all_boxscores:\n",
    "    boxscore = game.get('boxscore', {})\n",
    "    teams = boxscore.get('teams', {})\n",
    "    for team_type in ['home', 'away']:\n",
    "        team = teams.get(team_type, {})\n",
    "        for key in ['batters', 'pitchers', 'bench']:\n",
    "            for pid in team.get(key, []):\n",
    "                all_ids.add(pid)\n",
    "\n",
    "player_info = []\n",
    "\n",
    "for pid in sorted(all_ids):\n",
    "    url = f\"https://statsapi.mlb.com/api/v1/people/{pid}\"\n",
    "    try:\n",
    "        resp = requests.get(url)\n",
    "        if resp.status_code == 200:\n",
    "            data = resp.json()\n",
    "            if data.get(\"people\"):\n",
    "                player_info.append(data[\"people\"][0])\n",
    "        else:\n",
    "            print(f\"Failed to fetch info for player ID {pid}\")\n",
    "    except Exception as e:\n",
    "        print(f\"Error fetching player {pid}: {e}\")\n",
    "    time.sleep(0.1)  # Be polite to the API\n",
    "\n",
    "print(\"Fetched player info for\", len(player_info), \"players\")"
   ]
  },
  {
   "cell_type": "code",
   "execution_count": 4,
   "id": "2d8e3d93",
   "metadata": {},
   "outputs": [
    {
     "name": "stdout",
     "output_type": "stream",
     "text": [
      "{'id': 445276, 'fullName': 'Kenley Jansen', 'link': '/api/v1/people/445276', 'firstName': 'Kenley', 'lastName': 'Jansen', 'primaryNumber': '74', 'birthDate': '1987-09-30', 'currentAge': 37, 'birthCity': 'Willemstad', 'birthCountry': 'Curacao', 'height': '6\\' 5\"', 'weight': 265, 'active': True, 'primaryPosition': {'code': '1', 'name': 'Pitcher', 'type': 'Pitcher', 'abbreviation': 'P'}, 'useName': 'Kenley', 'useLastName': 'Jansen', 'middleName': 'Geronimo', 'boxscoreName': 'Jansen, K', 'nickName': 'Kenleyfornia', 'gender': 'M', 'isPlayer': True, 'isVerified': True, 'pronunciation': 'KEHN-lee JAN-sin', 'mlbDebutDate': '2010-07-24', 'batSide': {'code': 'S', 'description': 'Switch'}, 'pitchHand': {'code': 'R', 'description': 'Right'}, 'nameFirstLast': 'Kenley Jansen', 'nameSlug': 'kenley-jansen-445276', 'firstLastName': 'Kenley Jansen', 'lastFirstName': 'Jansen, Kenley', 'lastInitName': 'Jansen, K', 'initLastName': 'K Jansen', 'fullFMLName': 'Kenley Geronimo Jansen', 'fullLFMName': 'Jansen, Kenley Geronimo', 'strikeZoneTop': 3.575, 'strikeZoneBottom': 1.681}\n"
     ]
    }
   ],
   "source": [
    "print(player_info[0])  # Print first player's info for verification "
   ]
  },
  {
   "cell_type": "code",
   "execution_count": 7,
   "id": "1f91e442",
   "metadata": {},
   "outputs": [
    {
     "name": "stdout",
     "output_type": "stream",
     "text": [
      "player_info.json file created with 527 players\n"
     ]
    }
   ],
   "source": [
    "with open('assets/json/players/player_info.json', 'w', encoding='utf-8') as f_out:\n",
    "    json.dump(player_info, f_out, ensure_ascii=False, indent=2)\n",
    "print(\"player_info.json file created with\", len(player_info), \"players\")"
   ]
  },
  {
   "cell_type": "code",
   "execution_count": 11,
   "id": "fc64f2ff",
   "metadata": {},
   "outputs": [],
   "source": [
    "import pandas as pd\n",
    "from pandas import json_normalize"
   ]
  },
  {
   "cell_type": "code",
   "execution_count": 12,
   "id": "93b8435b",
   "metadata": {},
   "outputs": [],
   "source": [
    "# Flatten nested fields\n",
    "df = json_normalize(player_info)\n",
    "\n",
    "# Write to CSV\n",
    "df.to_csv('assets/csv/players/player_info.csv', index=False)"
   ]
  }
 ],
 "metadata": {
  "kernelspec": {
   "display_name": ".venv",
   "language": "python",
   "name": "python3"
  },
  "language_info": {
   "codemirror_mode": {
    "name": "ipython",
    "version": 3
   },
   "file_extension": ".py",
   "mimetype": "text/x-python",
   "name": "python",
   "nbconvert_exporter": "python",
   "pygments_lexer": "ipython3",
   "version": "3.13.3"
  }
 },
 "nbformat": 4,
 "nbformat_minor": 5
}
