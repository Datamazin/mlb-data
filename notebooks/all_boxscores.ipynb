{
 "cells": [
  {
   "cell_type": "code",
   "execution_count": null,
   "id": "e2140ef2",
   "metadata": {},
   "outputs": [],
   "source": []
  },
  {
   "cell_type": "code",
   "execution_count": 3,
   "id": "16ea6abf",
   "metadata": {},
   "outputs": [],
   "source": [
    "import requests\n",
    "import pandas as pd\n",
    "import json\n",
    "\n",
    "# Read the CSV file with gamePk values (from yesterday)\n",
    "games_df = pd.read_csv('assets/csv/games/mlb_games_2025-07-05.csv')\n",
    "\n",
    "all_boxscores = []\n",
    "for game_pk in games_df['gamePk']:\n",
    "    url = f'https://statsapi.mlb.com/api/v1/game/{game_pk}/boxscore'\n",
    "    response = requests.get(url)\n",
    "    if response.status_code == 200:\n",
    "        boxscore_data = response.json()\n",
    "        all_boxscores.append({'gamePk': game_pk, 'boxscore': boxscore_data})\n",
    "    else:\n",
    "        all_boxscores.append({'gamePk': game_pk, 'boxscore': None})\n",
    "\n",
    "# Save all boxscores to a single JSON file\n",
    "with open('assets/json/boxscores/mlb_boxscores_2025-07-05.json', 'w') as f:\n",
    "    json.dump(all_boxscores, f, indent=2)"
   ]
  }
 ],
 "metadata": {
  "kernelspec": {
   "display_name": ".venv",
   "language": "python",
   "name": "python3"
  },
  "language_info": {
   "codemirror_mode": {
    "name": "ipython",
    "version": 3
   },
   "file_extension": ".py",
   "mimetype": "text/x-python",
   "name": "python",
   "nbconvert_exporter": "python",
   "pygments_lexer": "ipython3",
   "version": "3.13.3"
  }
 },
 "nbformat": 4,
 "nbformat_minor": 5
}
